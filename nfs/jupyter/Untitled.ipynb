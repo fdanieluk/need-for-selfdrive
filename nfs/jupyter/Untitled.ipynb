{
 "cells": [
  {
   "cell_type": "code",
   "execution_count": 2,
   "metadata": {},
   "outputs": [],
   "source": [
    "from fastai.vision import *\n",
    "from pathlib import Path\n",
    "import cv2\n",
    "import torch"
   ]
  },
  {
   "cell_type": "code",
   "execution_count": 3,
   "metadata": {},
   "outputs": [],
   "source": [
    "data = Path('../data/raw') / 'bayview_summit_fw'\n",
    "files = list(data.glob('*'))"
   ]
  },
  {
   "cell_type": "code",
   "execution_count": 7,
   "metadata": {},
   "outputs": [],
   "source": [
    "learn = load_learner('..', test=img)\n",
    "learn.model.training = False"
   ]
  },
  {
   "cell_type": "code",
   "execution_count": 13,
   "metadata": {},
   "outputs": [
    {
     "data": {
      "text/plain": [
       "'..\\\\data\\\\raw\\\\bayview_summit_fw\\\\10022020_195457_wd.jpg'"
      ]
     },
     "execution_count": 13,
     "metadata": {},
     "output_type": "execute_result"
    }
   ],
   "source": [
    "file = files[10].__str__()\n",
    "img = cv2.imread(file)\n",
    "img = cv2.cvtColor(img, cv2.COLOR_BGR2RGB)   # BGR -> RGB\n",
    "img = torch.tensor(img).permute(2, 0, 1).float()\n",
    "file"
   ]
  },
  {
   "cell_type": "code",
   "execution_count": 14,
   "metadata": {},
   "outputs": [
    {
     "data": {
      "text/plain": [
       "(Category wa, tensor(1), tensor([0., 1., 0.]))"
      ]
     },
     "execution_count": 14,
     "metadata": {},
     "output_type": "execute_result"
    }
   ],
   "source": [
    "learn.predict(img)"
   ]
  },
  {
   "cell_type": "code",
   "execution_count": 10,
   "metadata": {},
   "outputs": [
    {
     "name": "stderr",
     "output_type": "stream",
     "text": [
      "C:\\Users\\filip\\Miniconda3\\lib\\site-packages\\ipykernel_launcher.py:31: DeprecationWarning: The binary mode of fromstring is deprecated, as it behaves surprisingly on unicode inputs. Use frombuffer instead\n"
     ]
    },
    {
     "name": "stdout",
     "output_type": "stream",
     "text": [
      "(1440, 2560, 3)\n"
     ]
    },
    {
     "data": {
      "text/plain": [
       "tensor([[[255., 255., 255.,  ...,   0.,   0.,   0.],\n",
       "         [255., 255., 255.,  ...,   0.,   0.,   0.],\n",
       "         [255., 255., 255.,  ...,   0.,   0.,   0.],\n",
       "         ...,\n",
       "         [  0.,   0.,   0.,  ...,   0.,   0.,   0.],\n",
       "         [  0.,   0.,   0.,  ...,   0.,   0.,   0.],\n",
       "         [  0.,   0.,   0.,  ...,   0.,   0.,   0.]],\n",
       "\n",
       "        [[255., 255., 255.,  ...,   0.,   0.,   0.],\n",
       "         [255., 255., 255.,  ...,   0.,   0.,   0.],\n",
       "         [255., 255., 255.,  ...,   0.,   0.,   0.],\n",
       "         ...,\n",
       "         [  0.,   0.,   0.,  ...,   0.,   0.,   0.],\n",
       "         [  0.,   0.,   0.,  ...,   0.,   0.,   0.],\n",
       "         [  0.,   0.,   0.,  ...,   0.,   0.,   0.]],\n",
       "\n",
       "        [[255., 255., 255.,  ...,   0.,   0.,   0.],\n",
       "         [255., 255., 255.,  ...,   0.,   0.,   0.],\n",
       "         [255., 255., 255.,  ...,   0.,   0.,   0.],\n",
       "         ...,\n",
       "         [  0.,   0.,   0.,  ...,   0.,   0.,   0.],\n",
       "         [  0.,   0.,   0.,  ...,   0.,   0.,   0.],\n",
       "         [  0.,   0.,   0.,  ...,   0.,   0.,   0.]]])"
      ]
     },
     "execution_count": 10,
     "metadata": {},
     "output_type": "execute_result"
    }
   ],
   "source": [
    "import cv2\n",
    "import win32gui\n",
    "import win32ui\n",
    "import win32con\n",
    "import numpy as np\n",
    "\n",
    "\n",
    "WIDTH = 2560\n",
    "HEIGHT = 1440\n",
    "\n",
    "\n",
    "def grab_screen(region=None):\n",
    "    hwin = win32gui.GetForegroundWindow()\n",
    "\n",
    "    window_name = win32gui.GetWindowText(hwin)\n",
    "\n",
    "    left, top, right, bottom = win32gui.GetWindowRect(hwin)\n",
    "    width_ = right - left\n",
    "    height_ = bottom - top\n",
    "\n",
    "    hwindc = win32gui.GetWindowDC(hwin)\n",
    "    srcdc = win32ui.CreateDCFromHandle(hwindc)\n",
    "    memdc = srcdc.CreateCompatibleDC()\n",
    "\n",
    "    bmp = win32ui.CreateBitmap()\n",
    "    bmp.CreateCompatibleBitmap(srcdc, WIDTH, HEIGHT)\n",
    "    memdc.SelectObject(bmp)\n",
    "    memdc.BitBlt((0, 0), (WIDTH, HEIGHT), srcdc, (0, 0), win32con.SRCCOPY)\n",
    "    signedIntsArray = bmp.GetBitmapBits(True)\n",
    "\n",
    "    img = np.fromstring(signedIntsArray, dtype='uint8')\n",
    "\n",
    "    # why would you stick to (width, height) convention, huh ?\n",
    "    img.shape = (HEIGHT, WIDTH, 4)\n",
    "\n",
    "    srcdc.DeleteDC()\n",
    "    memdc.DeleteDC()\n",
    "    win32gui.ReleaseDC(hwin, hwindc)\n",
    "\n",
    "    win32gui.DeleteObject(bmp.GetHandle())\n",
    "    return cv2.cvtColor(img, cv2.COLOR_BGRA2RGB)\n",
    "\n",
    "img = grab_screen()\n",
    "print(img.shape)\n",
    "torch.tensor(img).permute(2, 0, 1).float()"
   ]
  },
  {
   "cell_type": "code",
   "execution_count": null,
   "metadata": {},
   "outputs": [],
   "source": []
  }
 ],
 "metadata": {
  "kernelspec": {
   "display_name": "Python 3",
   "language": "python",
   "name": "python3"
  },
  "language_info": {
   "codemirror_mode": {
    "name": "ipython",
    "version": 3
   },
   "file_extension": ".py",
   "mimetype": "text/x-python",
   "name": "python",
   "nbconvert_exporter": "python",
   "pygments_lexer": "ipython3",
   "version": "3.7.4"
  }
 },
 "nbformat": 4,
 "nbformat_minor": 4
}
